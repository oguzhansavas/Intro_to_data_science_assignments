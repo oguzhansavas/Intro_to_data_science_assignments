{
 "cells": [
  {
   "cell_type": "markdown",
   "metadata": {
    "deletable": false,
    "editable": false,
    "nbgrader": {
     "checksum": "48770f8b5f5d3062d3badd51fcafc401",
     "grade": false,
     "grade_id": "cell-a6c4f74309fc2379",
     "locked": true,
     "schema_version": 1,
     "solution": false
    }
   },
   "source": [
    "# Assignment 4\n",
    "## Description\n",
    "In this assignment you must read in a file of metropolitan regions and associated sports teams from [assets/wikipedia_data.html](assets/wikipedia_data.html) and answer some questions about each metropolitan region. Each of these regions may have one or more teams from the \"Big 4\": NFL (football, in [assets/nfl.csv](assets/nfl.csv)), MLB (baseball, in [assets/mlb.csv](assets/mlb.csv)), NBA (basketball, in [assets/nba.csv](assets/nba.csv) or NHL (hockey, in [assets/nhl.csv](assets/nhl.csv)). Please keep in mind that all questions are from the perspective of the metropolitan region, and that this file is the \"source of authority\" for the location of a given sports team. Thus teams which are commonly known by a different area (e.g. \"Oakland Raiders\") need to be mapped into the metropolitan region given (e.g. San Francisco Bay Area). This will require some human data understanding outside of the data you've been given (e.g. you will have to hand-code some names, and might need to google to find out where teams are)!\n",
    "\n",
    "For each sport I would like you to answer the question: **what is the win/loss ratio's correlation with the population of the city it is in?** Win/Loss ratio refers to the number of wins over the number of wins plus the number of losses. Remember that to calculate the correlation with [`pearsonr`](https://docs.scipy.org/doc/scipy/reference/generated/scipy.stats.pearsonr.html), so you are going to send in two ordered lists of values, the populations from the wikipedia_data.html file and the win/loss ratio for a given sport in the same order. Average the win/loss ratios for those cities which have multiple teams of a single sport. Each sport is worth an equal amount in this assignment (20%\\*4=80%) of the grade for this assignment. You should only use data **from year 2018** for your analysis -- this is important!\n",
    "\n",
    "## Notes\n",
    "\n",
    "1. Do not include data about the MLS or CFL in any of the work you are doing, we're only interested in the Big 4 in this assignment.\n",
    "2. I highly suggest that you first tackle the four correlation questions in order, as they are all similar and worth the majority of grades for this assignment. This is by design!\n",
    "3. It's fair game to talk with peers about high level strategy as well as the relationship between metropolitan areas and sports teams. However, do not post code solving aspects of the assignment (including such as dictionaries mapping areas to teams, or regexes which will clean up names).\n",
    "4. There may be more teams than the assert statements test, remember to collapse multiple teams in one city into a single value!"
   ]
  },
  {
   "cell_type": "markdown",
   "metadata": {
    "deletable": false,
    "editable": false,
    "nbgrader": {
     "checksum": "369ff9ecf0ee04640574205cbc697f94",
     "grade": false,
     "grade_id": "cell-712b2b5da63d4505",
     "locked": true,
     "schema_version": 1,
     "solution": false
    }
   },
   "source": [
    "## Question 1\n",
    "For this question, calculate the win/loss ratio's correlation with the population of the city it is in for the **NHL** using **2018** data."
   ]
  },
  {
   "cell_type": "code",
   "execution_count": 29,
   "metadata": {
    "deletable": false,
    "nbgrader": {
     "checksum": "1cac4803b02502929f5b1612d48db2b5",
     "grade": false,
     "grade_id": "cell-69b16e4386e58030",
     "locked": false,
     "schema_version": 1,
     "solution": true
    }
   },
   "outputs": [],
   "source": [
    "import pandas as pd\n",
    "import numpy as np\n",
    "import scipy.stats as stats\n",
    "import re\n",
    "\n",
    "nhl_df=pd.read_csv(\"assets/nhl.csv\")\n",
    "cities=pd.read_html(\"assets/wikipedia_data.html\")[1]\n",
    "cities=cities.iloc[:-1,[0,3,5,6,7,8]]\n",
    "\n",
    "def nhl_correlation(): \n",
    "    # YOUR CODE HERE\n",
    "    #global nhl_df\n",
    "    cities_nhl = cities.copy()\n",
    "    cities_nhl = cities_nhl[[\"Metropolitan area\", \"Population (2016 est.)[8]\", \"NHL\"]]\n",
    "    cities_nhl = cities_nhl.replace(\"(\\[.*\\])\", \"\", regex = True)\\\n",
    "                .replace(\"—\", np.nan, regex=True).dropna()\n",
    "\n",
    "    def camel_case_split(str):                                         # camel_case_split function from\n",
    "        return re.findall(r'[A-Z](?:[a-z]+|[A-Z]*(?=[A-Z]|$))', str)   # https://www.geeksforgeeks.org/python-split-camelcase-string-to-individual-strings/\n",
    "\n",
    "    cities_nhl[\"NHL\"] = cities_nhl[\"NHL\"].apply(lambda x: camel_case_split(x))\n",
    "    cities_nhl = cities_nhl[\"NHL\"].apply(pd.Series).merge(cities_nhl, right_index = True, left_index = True)\n",
    "    cities_nhl = cities_nhl.melt(id_vars = [\"Metropolitan area\", \"NHL\", \"Population (2016 est.)[8]\"], value_name = \"team_name\")\n",
    "    cities_nhl = cities_nhl.dropna().drop([\"NHL\", \"variable\"], axis=1)\n",
    "    cities_nhl = cities_nhl.set_index(\"team_name\")\n",
    "    \n",
    "    nhl_df2 = nhl_df.copy()[[\"team\", \"W\", \"L\", \"year\"]]\n",
    "    nhl_df2 = nhl_df2[nhl_df2[\"year\"]==2018].drop([0,9,18,26],axis=0)\n",
    "    nhl_df2[\"team\"].replace(\"\\*\", \"\", regex = True, inplace = True)\n",
    "    nhl_df2[\"team_name\"] = nhl_df2[\"team\"].str.split().str[-1]\n",
    "    nhl_df2 = nhl_df2.set_index(\"team_name\")\n",
    "    \n",
    "    nhl_merged = pd.merge(cities_nhl, nhl_df2, left_index = True, right_index = True)\n",
    "    nhl_merged[\"Win Loss Ratio\"] = nhl_merged[\"W\"].astype(int) / (nhl_merged[\"W\"].astype(int) + nhl_merged[\"L\"].astype(int))\n",
    "    nhl_merged[\"Population (2016 est.)[8]\"] = nhl_merged[\"Population (2016 est.)[8]\"].astype(int)\n",
    "    \n",
    "    #raise NotImplementedError()\n",
    "    \n",
    "    population_by_region = nhl_merged.groupby(\"Metropolitan area\")[\"Population (2016 est.)[8]\"].mean() # pass in metropolitan area population from cities\n",
    "    win_loss_by_region = nhl_merged.groupby(\"Metropolitan area\")[\"Win Loss Ratio\"].mean() # pass in win/loss ratio from nhl_df in the same order as cities[\"Metropolitan area\"]\n",
    "\n",
    "    assert len(population_by_region) == len(win_loss_by_region), \"Q1: Your lists must be the same length\"\n",
    "    assert len(population_by_region) == 28, \"Q1: There should be 28 teams being analysed for NHL\"\n",
    "    \n",
    "    return stats.pearsonr(population_by_region, win_loss_by_region)[0]"
   ]
  },
  {
   "cell_type": "code",
   "execution_count": 30,
   "metadata": {},
   "outputs": [
    {
     "data": {
      "text/plain": [
       "0.012486162921209907"
      ]
     },
     "execution_count": 30,
     "metadata": {},
     "output_type": "execute_result"
    }
   ],
   "source": [
    "nhl_correlation()"
   ]
  },
  {
   "cell_type": "code",
   "execution_count": null,
   "metadata": {
    "deletable": false,
    "editable": false,
    "nbgrader": {
     "checksum": "52a581df513c71153e105b93764cda4b",
     "grade": true,
     "grade_id": "cell-ebe0b2dfe1067e63",
     "locked": true,
     "points": 20,
     "schema_version": 1,
     "solution": false
    }
   },
   "outputs": [],
   "source": []
  },
  {
   "cell_type": "markdown",
   "metadata": {
    "deletable": false,
    "editable": false,
    "nbgrader": {
     "checksum": "988912cae4968d81473f46d783e79c16",
     "grade": false,
     "grade_id": "cell-cb964e690298b71d",
     "locked": true,
     "schema_version": 1,
     "solution": false
    }
   },
   "source": [
    "## Question 2\n",
    "For this question, calculate the win/loss ratio's correlation with the population of the city it is in for the **NBA** using **2018** data."
   ]
  },
  {
   "cell_type": "code",
   "execution_count": 31,
   "metadata": {
    "deletable": false,
    "nbgrader": {
     "checksum": "9394222aafc8ccab0a228098ba0d6010",
     "grade": false,
     "grade_id": "cell-5a5f21279e3d3572",
     "locked": false,
     "schema_version": 1,
     "solution": true
    }
   },
   "outputs": [],
   "source": [
    "import pandas as pd\n",
    "import numpy as np\n",
    "import scipy.stats as stats\n",
    "import re\n",
    "\n",
    "nba_df=pd.read_csv(\"assets/nba.csv\")\n",
    "cities=pd.read_html(\"assets/wikipedia_data.html\")[1]\n",
    "cities=cities.iloc[:-1,[0,3,5,6,7,8]]\n",
    "\n",
    "def nba_correlation():\n",
    "    # YOUR CODE HERE\n",
    "    def camel_case_split(str):\n",
    "        return re.findall(r'[A-Z\\d](?:[a-z\\d]+|[A-Z]*(?=[A-Z]|$))', str)\n",
    "    \n",
    "    cities2 = cities[['Metropolitan area', 'NBA', 'Population (2016 est.)[8]']]\n",
    "    cities2 = cities2.replace({'NBA': '\\[.*\\]'}, {'NBA' : ''}, regex = True)\\\n",
    "                .replace({'NBA': '—'}, {'NHL' : np.nan}, regex = True)\\\n",
    "                .dropna()\n",
    "\n",
    "    cities2['Split'] = cities2['NBA'].apply(lambda x: camel_case_split(x))\n",
    "    cities2 = cities2.Split.apply(pd.Series) \\\n",
    "                .merge(cities2, right_index = True, left_index = True) \\\n",
    "                .melt(id_vars = ['Metropolitan area', 'Split', 'NBA', 'Population (2016 est.)[8]'], value_name = \"Team\")\n",
    "    cities2 = cities2.dropna().drop(['Split', 'NBA', 'variable'], axis=1).set_index('Team')\n",
    "    \n",
    "    #Clean up NBA\n",
    "    nba_df2 = nba_df[(~nba_df.team.str.contains('Division')) & (nba_df.year == 2018)][['team','W','L','year']]\n",
    "    nba_df2 = nba_df2.replace(to_replace = r'\\*?\\s\\(.*\\)', value = '', regex = True)\n",
    "    nba_df2['team_name'] = nba_df2['team'].str.split().str[-1]\n",
    "    nba_df2 = nba_df2.set_index('team_name')\n",
    "    \n",
    "    #Merge on truncated team name\n",
    "    merged = nba_df2.merge(cities2, how='left', left_index = True, right_index=True)\n",
    "    merged['Win Loss Ratio']= merged['W'].astype('int')/(merged['W'].astype('int')+merged['L'].astype('int'))\n",
    "    merged['Population (2016 est.)[8]'] = merged['Population (2016 est.)[8]'].astype('int')\n",
    "    \n",
    "    #raise NotImplementedError()\n",
    "    \n",
    "    population_by_region = merged.groupby(\"Metropolitan area\")[\"Population (2016 est.)[8]\"].mean() # pass in metropolitan area population from cities\n",
    "    win_loss_by_region = merged.groupby(\"Metropolitan area\")[\"Win Loss Ratio\"].mean() # pass in win/loss ratio from nba_df in the same order as cities[\"Metropolitan area\"]\n",
    "\n",
    "    assert len(population_by_region) == len(win_loss_by_region), \"Q2: Your lists must be the same length\"\n",
    "    assert len(population_by_region) == 28, \"Q2: There should be 28 teams being analysed for NBA\"\n",
    "\n",
    "    return stats.pearsonr(population_by_region, win_loss_by_region)[0]"
   ]
  },
  {
   "cell_type": "code",
   "execution_count": 32,
   "metadata": {},
   "outputs": [
    {
     "data": {
      "text/plain": [
       "-0.17657160252844617"
      ]
     },
     "execution_count": 32,
     "metadata": {},
     "output_type": "execute_result"
    }
   ],
   "source": [
    "nba_correlation()"
   ]
  },
  {
   "cell_type": "code",
   "execution_count": null,
   "metadata": {
    "deletable": false,
    "editable": false,
    "nbgrader": {
     "checksum": "bbdeb8eb22f525a34c10dc8798324e42",
     "grade": true,
     "grade_id": "cell-e573b2b4a282b470",
     "locked": true,
     "points": 20,
     "schema_version": 1,
     "solution": false
    }
   },
   "outputs": [],
   "source": []
  },
  {
   "cell_type": "markdown",
   "metadata": {
    "deletable": false,
    "editable": false,
    "nbgrader": {
     "checksum": "1a1a5809f675ca033086422007cd73bd",
     "grade": false,
     "grade_id": "cell-96e15e4335df78f4",
     "locked": true,
     "schema_version": 1,
     "solution": false
    }
   },
   "source": [
    "## Question 3\n",
    "For this question, calculate the win/loss ratio's correlation with the population of the city it is in for the **MLB** using **2018** data."
   ]
  },
  {
   "cell_type": "code",
   "execution_count": 33,
   "metadata": {
    "deletable": false,
    "nbgrader": {
     "checksum": "27e8c0da6c9fa0dffc10488314335b6c",
     "grade": false,
     "grade_id": "cell-33b00fc3f3467b0c",
     "locked": false,
     "schema_version": 1,
     "solution": true
    }
   },
   "outputs": [],
   "source": [
    "import pandas as pd\n",
    "import numpy as np\n",
    "import scipy.stats as stats\n",
    "import re\n",
    "\n",
    "mlb_df=pd.read_csv(\"assets/mlb.csv\")\n",
    "cities=pd.read_html(\"assets/wikipedia_data.html\")[1]\n",
    "cities=cities.iloc[:-1,[0,3,5,6,7,8]]\n",
    "\n",
    "def mlb_correlation(): \n",
    "    # YOUR CODE HERE\n",
    "    #global mlb_df\n",
    "    cities_mlb = cities.copy()\n",
    "    cities_mlb = cities_mlb[[\"Metropolitan area\", \"Population (2016 est.)[8]\", \"MLB\"]]\n",
    "    cities_mlb = cities_mlb.replace(\"(\\[.*\\])\", \"\", regex = True)\\\n",
    "                .replace(\"—\", np.nan, regex=True).dropna()\n",
    "\n",
    "    def camel_case_split(str):                                         # camel_case_split function from\n",
    "        return re.findall(r'[A-Z](?:[a-z]+|[A-Z]*(?=[A-Z]|$))', str)   # https://www.geeksforgeeks.org/python-split-camelcase-string-to-individual-strings/\n",
    "\n",
    "    cities_mlb[\"MLB\"] = cities_mlb[\"MLB\"].apply(lambda x: camel_case_split(x))\n",
    "    cities_mlb = cities_mlb[\"MLB\"].apply(pd.Series).merge(cities_mlb, right_index = True, left_index = True)\n",
    "    cities_mlb = cities_mlb.melt(id_vars = [\"Metropolitan area\", \"MLB\", \"Population (2016 est.)[8]\"], value_name = \"team_name\")\n",
    "    cities_mlb = cities_mlb.dropna().drop([\"MLB\", \"variable\"], axis=1)\n",
    "    cities_mlb[\"team_name\"][7] = \"Red Sox\"\n",
    "    cities_mlb[\"team_name\"][13] = \"Blue Jays\"\n",
    "    cities_mlb[\"team_name\"][32] = \"White Sox\"\n",
    "    cities_mlb.drop(36, axis=0, inplace=True)\n",
    "    cities_mlb.drop(42, axis=0, inplace=True)\n",
    "    cities_mlb.drop(61, axis=0, inplace=True)\n",
    "    \n",
    "    cities_mlb = cities_mlb.set_index(\"team_name\")\n",
    "    \n",
    "    mlb_df2 = mlb_df.copy()[[\"team\", \"W\", \"L\", \"year\"]]\n",
    "    mlb_df2 = mlb_df2[mlb_df2[\"year\"]==2018]\n",
    "    mlb_df2[\"team_name\"] = mlb_df2[\"team\"].str.split().str[-1]\n",
    "    mlb_df2[\"team_name\"][0] = \"Red Sox\"\n",
    "    mlb_df2[\"team_name\"][3] = \"Blue Jays\"\n",
    "    mlb_df2[\"team_name\"][8] = \"White Sox\"\n",
    "    mlb_df2 = mlb_df2.set_index(\"team_name\")\n",
    "    \n",
    "    mlb_merged = pd.merge(cities_mlb, mlb_df2, left_index = True, right_index = True)\n",
    "    mlb_merged[\"Win Loss Ratio\"] = mlb_merged[\"W\"].astype(int) / (mlb_merged[\"W\"].astype(int) + mlb_merged[\"L\"].astype(int))\n",
    "    mlb_merged[\"Population (2016 est.)[8]\"] = mlb_merged[\"Population (2016 est.)[8]\"].astype(int)\n",
    "    \n",
    "    #raise NotImplementedError()\n",
    "    \n",
    "    population_by_region = mlb_merged.groupby(\"Metropolitan area\")[\"Population (2016 est.)[8]\"].mean() # pass in metropolitan area population from cities\n",
    "    win_loss_by_region = mlb_merged.groupby(\"Metropolitan area\")[\"Win Loss Ratio\"].mean() # pass in win/loss ratio from mlb_df in the same order as cities[\"Metropolitan area\"]\n",
    "\n",
    "    assert len(population_by_region) == len(win_loss_by_region), \"Q3: Your lists must be the same length\"\n",
    "    assert len(population_by_region) == 26, \"Q3: There should be 26 teams being analysed for MLB\"\n",
    "\n",
    "    return stats.pearsonr(population_by_region, win_loss_by_region)[0]"
   ]
  },
  {
   "cell_type": "code",
   "execution_count": 34,
   "metadata": {},
   "outputs": [
    {
     "data": {
      "text/plain": [
       "0.15027698302669307"
      ]
     },
     "execution_count": 34,
     "metadata": {},
     "output_type": "execute_result"
    }
   ],
   "source": [
    "mlb_correlation()"
   ]
  },
  {
   "cell_type": "code",
   "execution_count": null,
   "metadata": {
    "deletable": false,
    "editable": false,
    "nbgrader": {
     "checksum": "cda33b094ba19ccc37a481e0dd29e0bc",
     "grade": true,
     "grade_id": "cell-764d4476f425c5a2",
     "locked": true,
     "points": 20,
     "schema_version": 1,
     "solution": false
    }
   },
   "outputs": [],
   "source": []
  },
  {
   "cell_type": "markdown",
   "metadata": {
    "deletable": false,
    "editable": false,
    "nbgrader": {
     "checksum": "6977a6da9ed6d8b7a0b7e37bbeda709b",
     "grade": false,
     "grade_id": "cell-793df6c04dfb126e",
     "locked": true,
     "schema_version": 1,
     "solution": false
    }
   },
   "source": [
    "## Question 4\n",
    "For this question, calculate the win/loss ratio's correlation with the population of the city it is in for the **NFL** using **2018** data."
   ]
  },
  {
   "cell_type": "code",
   "execution_count": 35,
   "metadata": {
    "deletable": false,
    "nbgrader": {
     "checksum": "c4914ad1e119278ec2bd567c52640b66",
     "grade": false,
     "grade_id": "cell-8ccebc209aeec8d9",
     "locked": false,
     "schema_version": 1,
     "solution": true
    }
   },
   "outputs": [],
   "source": [
    "import pandas as pd\n",
    "import numpy as np\n",
    "import scipy.stats as stats\n",
    "import re\n",
    "\n",
    "nfl_df=pd.read_csv(\"assets/nfl.csv\")\n",
    "cities=pd.read_html(\"assets/wikipedia_data.html\")[1]\n",
    "cities=cities.iloc[:-1,[0,3,5,6,7,8]]\n",
    "\n",
    "def nfl_correlation(): \n",
    "    # YOUR CODE HERE\n",
    "    #global nfl_df\n",
    "    cities_nfl = cities.copy()\n",
    "    cities_nfl = cities_nfl[[\"Metropolitan area\", \"Population (2016 est.)[8]\", \"NFL\"]]\n",
    "    cities_nfl = cities_nfl.replace(\"(\\[.*\\])\", \"\", regex = True)\\\n",
    "                .replace(\"—\", np.nan, regex=True).dropna()\n",
    "\n",
    "    def camel_case_split(str):                                         # camel_case_split function from\n",
    "        return re.findall(r'[A-Z](?:[a-z]+|[A-Z]*(?=[A-Z]|$))', str)   # https://www.geeksforgeeks.org/python-split-camelcase-string-to-individual-strings/\n",
    "\n",
    "    cities_nfl[\"NFL\"] = cities_nfl[\"NFL\"].apply(lambda x: camel_case_split(x))\n",
    "    cities_nfl = cities_nfl[\"NFL\"].apply(pd.Series).merge(cities_nfl, right_index = True, left_index = True)\n",
    "    cities_nfl = cities_nfl.melt(id_vars = [\"Metropolitan area\", \"NFL\", \"Population (2016 est.)[8]\"], value_name = \"team_name\")\n",
    "    cities_nfl = cities_nfl.dropna().drop([\"NFL\", \"variable\"], axis=1)\n",
    "    cities_nfl = cities_nfl.set_index(\"team_name\")\n",
    "    \n",
    "    nfl_df2 = nfl_df.copy()[[\"team\", \"W\", \"L\", \"year\"]]\n",
    "    nfl_df2 = nfl_df2[nfl_df2[\"year\"]==2018].drop([0,5,10,15,20,25,30,35],axis=0)\n",
    "    nfl_df2[\"team\"].replace(\"\\*\", \"\", regex = True, inplace = True)\n",
    "    nfl_df2[\"team\"].replace(\"\\+\", \"\", regex = True, inplace = True)\n",
    "    nfl_df2[\"team_name\"] = nfl_df2[\"team\"].str.split().str[-1]\n",
    "    nfl_df2 = nfl_df2.set_index(\"team_name\")\n",
    "    \n",
    "    nfl_merged = pd.merge(cities_nfl, nfl_df2, left_index = True, right_index = True)\n",
    "    nfl_merged[\"Win Loss Ratio\"] = nfl_merged[\"W\"].astype(int) / (nfl_merged[\"W\"].astype(int) + nfl_merged[\"L\"].astype(int))\n",
    "    nfl_merged[\"Population (2016 est.)[8]\"] = nfl_merged[\"Population (2016 est.)[8]\"].astype(int)\n",
    "    \n",
    "    #raise NotImplementedError()\n",
    "    \n",
    "    population_by_region = nfl_merged.groupby(\"Metropolitan area\")[\"Population (2016 est.)[8]\"].mean() # pass in metropolitan area population from cities\n",
    "    win_loss_by_region = nfl_merged.groupby(\"Metropolitan area\")[\"Win Loss Ratio\"].mean() # pass in win/loss ratio from nfl_df in the same order as cities[\"Metropolitan area\"]\n",
    "\n",
    "    assert len(population_by_region) == len(win_loss_by_region), \"Q4: Your lists must be the same length\"\n",
    "    assert len(population_by_region) == 29, \"Q4: There should be 29 teams being analysed for NFL\"\n",
    "\n",
    "    return stats.pearsonr(population_by_region, win_loss_by_region)[0]"
   ]
  },
  {
   "cell_type": "code",
   "execution_count": null,
   "metadata": {
    "deletable": false,
    "editable": false,
    "nbgrader": {
     "checksum": "e9415d6399aa49e3a1a60813afdefa3b",
     "grade": true,
     "grade_id": "cell-de7b148b9554dbda",
     "locked": true,
     "points": 20,
     "schema_version": 1,
     "solution": false
    }
   },
   "outputs": [],
   "source": []
  },
  {
   "cell_type": "code",
   "execution_count": 36,
   "metadata": {},
   "outputs": [
    {
     "data": {
      "text/plain": [
       "0.004922112149349393"
      ]
     },
     "execution_count": 36,
     "metadata": {},
     "output_type": "execute_result"
    }
   ],
   "source": [
    "nfl_correlation()"
   ]
  },
  {
   "cell_type": "markdown",
   "metadata": {
    "deletable": false,
    "editable": false,
    "nbgrader": {
     "checksum": "b02d5cd3273f561e4ae939bb2a41740c",
     "grade": false,
     "grade_id": "cell-97b49d8639e908c4",
     "locked": true,
     "schema_version": 1,
     "solution": false
    }
   },
   "source": [
    "## Question 5\n",
    "In this question I would like you to explore the hypothesis that **given that an area has two sports teams in different sports, those teams will perform the same within their respective sports**. How I would like to see this explored is with a series of paired t-tests (so use [`ttest_rel`](https://docs.scipy.org/doc/scipy/reference/generated/scipy.stats.ttest_rel.html)) between all pairs of sports. Are there any sports where we can reject the null hypothesis? Again, average values where a sport has multiple teams in one region. Remember, you will only be including, for each sport, cities which have teams engaged in that sport, drop others as appropriate. This question is worth 20% of the grade for this assignment."
   ]
  },
  {
   "cell_type": "code",
   "execution_count": null,
   "metadata": {
    "deletable": false,
    "nbgrader": {
     "checksum": "6d78c961eb66f8d8c81f06d33ae8f393",
     "grade": false,
     "grade_id": "cell-92f25f44b8d1179f",
     "locked": false,
     "schema_version": 1,
     "solution": true
    }
   },
   "outputs": [],
   "source": [
    "import pandas as pd\n",
    "import numpy as np\n",
    "import scipy.stats as stats\n",
    "import re\n",
    "\n",
    "mlb_df=pd.read_csv(\"assets/mlb.csv\")\n",
    "nhl_df=pd.read_csv(\"assets/nhl.csv\")\n",
    "nba_df=pd.read_csv(\"assets/nba.csv\")\n",
    "nfl_df=pd.read_csv(\"assets/nfl.csv\")\n",
    "cities=pd.read_html(\"assets/wikipedia_data.html\")[1]\n",
    "cities=cities.iloc[:-1,[0,3,5,6,7,8]]\n",
    "\n",
    "def sports_team_performance():\n",
    "    # YOUR CODE HERE\n",
    "    raise NotImplementedError()\n",
    "    \n",
    "    # Note: p_values is a full dataframe, so df.loc[\"NFL\",\"NBA\"] should be the same as df.loc[\"NBA\",\"NFL\"] and\n",
    "    # df.loc[\"NFL\",\"NFL\"] should return np.nan\n",
    "    sports = ['NFL', 'NBA', 'NHL', 'MLB']\n",
    "    p_values = pd.DataFrame({k:np.nan for k in sports}, index=sports)\n",
    "    \n",
    "    assert abs(p_values.loc[\"NBA\", \"NHL\"] - 0.02) <= 1e-2, \"The NBA-NHL p-value should be around 0.02\"\n",
    "    assert abs(p_values.loc[\"MLB\", \"NFL\"] - 0.80) <= 1e-2, \"The MLB-NFL p-value should be around 0.80\"\n",
    "    return p_values"
   ]
  },
  {
   "cell_type": "code",
   "execution_count": null,
   "metadata": {
    "deletable": false,
    "editable": false,
    "nbgrader": {
     "checksum": "2a596ab421a45cc01168d10e8fbb8f89",
     "grade": true,
     "grade_id": "cell-fb4b9cb5ff4570a6",
     "locked": true,
     "points": 20,
     "schema_version": 1,
     "solution": false
    }
   },
   "outputs": [],
   "source": []
  }
 ],
 "metadata": {
  "coursera": {
   "schema_names": [
    "mooc_adswpy_1_v2_assignment4"
   ]
  },
  "kernelspec": {
   "display_name": "Python 3",
   "language": "python",
   "name": "python3"
  },
  "language_info": {
   "codemirror_mode": {
    "name": "ipython",
    "version": 3
   },
   "file_extension": ".py",
   "mimetype": "text/x-python",
   "name": "python",
   "nbconvert_exporter": "python",
   "pygments_lexer": "ipython3",
   "version": "3.7.3"
  }
 },
 "nbformat": 4,
 "nbformat_minor": 4
}
